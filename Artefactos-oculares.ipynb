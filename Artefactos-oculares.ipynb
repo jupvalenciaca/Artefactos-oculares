{
 "cells": [
  {
   "cell_type": "markdown",
   "metadata": {},
   "source": [
    "# Filtro de artefactos oculares\n",
    "\n",
    "Script para la implementación de un filtro de artefactos oculares en un EEG (archivo '.edf')\n",
    "\n",
    "## Resumen\n",
    "En este script se realiza un proceso de segmentación del EEG y de filtrado de artefactos oculares (algoritmo de ICA-LMS), para posteriormente crear un archivo '.edf' con los datos obtenidos tras realizar dichos procesos, utilizando la librería pyedflib.\n",
    "\n",
    "## Entradas\n",
    "Utilizando argaparse, se definen las siguientes entradas de usuario.\n",
    "\n",
    "1) -i o --archivo: Nombre del archivo .edf que se desea cargar, es de tipo str, ejemplo\n",
    "\n",
    "2) -is o --in_sec: Es el segundo en el que se desea empezar a segmentar el EEG, es de tipo float, ejemplo: -is 1000\n",
    "\n",
    "3) -fs o --fi_sec: Es el segundo hasta el cual se desea segmentar el EEG, debe ser mayor a in_sec, es de tipo float, ejemplo:       -fs 1001.9\n",
    "\n",
    "4) -l o --lam: Parámetro lambda del filtro adaptativo, es de tipo float, ejemplo: -l 0.9. Nota:Si no se ingresa este parámetro, lam=0.9\n",
    "\n",
    "5) -e o --edf: Nombre del archivo y dirección donde se desea guardar el nuevo archivo .edf, es de tipo str, ejemplo: -e desktop/prueba.edf\n",
    "\n",
    "## Salidas\n",
    "1) edf : Archivo .edf con el segmento seleccionado filtrado.\n",
    "\n",
    "## Código\n",
    "En el script principal (ocular_artifact.py), se importan las librerías necesarias para implementar este código, definiendo una clase (ocular_artifact_filter) con sus respectivos métodos de lectura, segmentación, filtrado y escritura.\n",
    "El código se implementa creando un objeto y haciendo uso de sus métodos."
   ]
  },
  {
   "cell_type": "code",
   "execution_count": null,
   "metadata": {},
   "outputs": [],
   "source": [
    "from ocular_artifact import ocular_artifact_filter\n",
    "adap1 = ocular_artifact_filter()\n",
    "arc,ini_sec,final_sec,output = adap1.argparse()\n",
    "dataEEG ,fs,headers,channels_labels =  adap1.read_edf(arc)\n",
    "dataEEG_seg = adap1.segmentation(dataEEG,fs,ini_sec,final_sec)\n",
    "Xpp = adap1.filt(dataEEG_seg,channels_labels)\n",
    "adap1.write_edf(Xpp,headers,output)\n",
    "\n",
    "#python ocular_artifact.py -i sujeto_base.edf -is 1000 -fs 1001.5 -e prueba.edf"
   ]
  },
  {
   "cell_type": "markdown",
   "metadata": {},
   "source": [
    "## Librerias utilizadas\n",
    "[1] Pyedflib http://pyedflib.readthedocs.io/en/latest/\n",
    "\n",
    "[2] Numpy - http://www.numpy.org/\n",
    "\n",
    "[3] Scipy - http://www.scipy.org\n",
    "\n",
    "[4] Scikit learn - http://scikit-learn.org/stable/index.html\n",
    "\n",
    "[5] Argparse - https://docs.python.org/3/library/argparse.html\n",
    "    \n",
    "[6]* Jade - https://github.com/camilleanne/pulse/blob/master/jade.py. NOTA: Es una función no librería. "
   ]
  }
 ],
 "metadata": {
  "kernelspec": {
   "display_name": "Python 3",
   "language": "python",
   "name": "python3"
  },
  "language_info": {
   "codemirror_mode": {
    "name": "ipython",
    "version": 3
   },
   "file_extension": ".py",
   "mimetype": "text/x-python",
   "name": "python",
   "nbconvert_exporter": "python",
   "pygments_lexer": "ipython3",
   "version": "3.6.5"
  }
 },
 "nbformat": 4,
 "nbformat_minor": 2
}
